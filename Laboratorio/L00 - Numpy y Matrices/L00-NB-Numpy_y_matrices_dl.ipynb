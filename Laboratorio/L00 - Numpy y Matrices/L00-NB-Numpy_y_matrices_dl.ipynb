{
 "cells": [
  {
   "cell_type": "markdown",
   "metadata": {
    "id": "lcFTHgZ0U4sT"
   },
   "source": [
    "# [Numpy](https://numpy.org/doc/stable/index.html)\n",
    "\n"
   ]
  },
  {
   "cell_type": "code",
   "execution_count": null,
   "metadata": {
    "id": "C9yw-iuSU4sV"
   },
   "outputs": [],
   "source": [
    "import numpy as np"
   ]
  },
  {
   "cell_type": "markdown",
   "metadata": {
    "id": "aVRqxEEG69YI"
   },
   "source": [
    "Tipos de numpy"
   ]
  },
  {
   "cell_type": "code",
   "execution_count": null,
   "metadata": {
    "colab": {
     "base_uri": "https://localhost:8080/"
    },
    "id": "B3QZXB1_6omb",
    "outputId": "8323e95d-e34c-4f85-e8cd-73e343833a08"
   },
   "outputs": [],
   "source": [
    "np.bool_, np.byte, np.ubyte, np.short, np.ushort, np.intc, np.uintc, np.int_, np.uint, np.longlong, np.ulonglong, np.half, np.float16, np.single, np.double, np.longdouble, np.csingle, np.cdouble, np.clongdouble"
   ]
  },
  {
   "cell_type": "markdown",
   "metadata": {
    "id": "jIhJ7KnrU4sX"
   },
   "source": [
    "## [Arrays](https://numpy.org/doc/stable/reference/arrays.html)"
   ]
  },
  {
   "cell_type": "markdown",
   "metadata": {
    "id": "s-XDS8y7U4sX"
   },
   "source": [
    "Los arrays son el tipo de datos más importante que provee NumPy. En su versión más básica representan vectores pero pueden tener más dimensiones y representar matrices y tensores en general.\n",
    "\n",
    "El tipo se llama ndarray pero también se lo conoce en la librería simplemente como array.\n",
    "\n",
    "En su versión más simple podemos pensar que no es más que una lista de python pero:\n",
    "\n",
    "* A diferencia de las listas en python, solo pueden tener un tipo de datos adentro.\n",
    "* Existen un montón de operaciones matemáticas definidas y optimizadas para trabajar con este tipo de datos.\n",
    "\n",
    "Al ser una clase de python, además de métodos tiene atributos. Veamos algunos de ellos"
   ]
  },
  {
   "cell_type": "code",
   "execution_count": null,
   "metadata": {
    "colab": {
     "base_uri": "https://localhost:8080/"
    },
    "id": "AdYE6LIKU4sY",
    "outputId": "45d4558e-8d90-4005-e691-083762c37c81"
   },
   "outputs": [],
   "source": [
    "an_array = np.arange(20)\n",
    "an_array"
   ]
  },
  {
   "cell_type": "code",
   "execution_count": null,
   "metadata": {
    "colab": {
     "base_uri": "https://localhost:8080/"
    },
    "id": "--oV7HVCU4sZ",
    "outputId": "a5740a62-6057-46f8-f713-04c1450b5dbc"
   },
   "outputs": [],
   "source": [
    "an_array.shape"
   ]
  },
  {
   "cell_type": "code",
   "execution_count": null,
   "metadata": {
    "colab": {
     "base_uri": "https://localhost:8080/"
    },
    "id": "AltxszNXU4sZ",
    "outputId": "77a12a78-bd34-4b4c-8000-5823ce32b251"
   },
   "outputs": [],
   "source": [
    "an_array.ndim"
   ]
  },
  {
   "cell_type": "code",
   "execution_count": null,
   "metadata": {
    "colab": {
     "base_uri": "https://localhost:8080/"
    },
    "id": "k8J7kCyfU4sa",
    "outputId": "3834d60e-e296-4244-9384-8cf3462a1689"
   },
   "outputs": [],
   "source": [
    "an_array.size"
   ]
  },
  {
   "cell_type": "code",
   "execution_count": null,
   "metadata": {
    "colab": {
     "base_uri": "https://localhost:8080/"
    },
    "id": "JdYnKIj5U4sa",
    "outputId": "3e307aa2-c1b1-4237-ba4e-1a67b4586296"
   },
   "outputs": [],
   "source": [
    "an_array.dtype"
   ]
  },
  {
   "cell_type": "markdown",
   "metadata": {
    "id": "2AlTmDLhU4se"
   },
   "source": [
    "### [Armando arrays](https://numpy.org/doc/stable/user/basics.creation.html)"
   ]
  },
  {
   "cell_type": "markdown",
   "metadata": {
    "id": "BrWAWOHiU4se"
   },
   "source": [
    "Por un lado, tenemos el constructor de la clase que admite como parámetro listas de valores. Por otro lado, existen diversas funciones que crean arrays. Veamos algunas."
   ]
  },
  {
   "cell_type": "code",
   "execution_count": null,
   "metadata": {
    "colab": {
     "base_uri": "https://localhost:8080/"
    },
    "id": "ucb8dIPIU4se",
    "outputId": "d7bb5e87-6355-4d8f-9335-5bab0597dc0b"
   },
   "outputs": [],
   "source": [
    "np.array([1,2,3,4])"
   ]
  },
  {
   "cell_type": "code",
   "execution_count": null,
   "metadata": {
    "colab": {
     "base_uri": "https://localhost:8080/"
    },
    "id": "HRVHSvDeU4se",
    "outputId": "3cb89fcd-1139-451d-dc7b-57f8e40b63b2"
   },
   "outputs": [],
   "source": [
    "np.arange(10,30,2)"
   ]
  },
  {
   "cell_type": "code",
   "execution_count": null,
   "metadata": {
    "colab": {
     "base_uri": "https://localhost:8080/"
    },
    "id": "x2x_vXejU4se",
    "outputId": "2c34bd07-8011-48b4-8c45-991e9485b71a"
   },
   "outputs": [],
   "source": [
    "np.linspace(0.1,0.5,4)"
   ]
  },
  {
   "cell_type": "code",
   "execution_count": null,
   "metadata": {
    "colab": {
     "base_uri": "https://localhost:8080/"
    },
    "id": "656rvkyYU4sf",
    "outputId": "4bf9030c-4f9d-475d-a4ca-23c51502b507"
   },
   "outputs": [],
   "source": [
    "np.logspace(1,10,10)"
   ]
  },
  {
   "cell_type": "code",
   "execution_count": null,
   "metadata": {
    "colab": {
     "base_uri": "https://localhost:8080/"
    },
    "id": "aXgzDkSlU4sf",
    "outputId": "33e40c73-ae2e-4c25-cfe2-2c96fe448c36"
   },
   "outputs": [],
   "source": [
    "np.zeros((3,2))"
   ]
  },
  {
   "cell_type": "code",
   "execution_count": null,
   "metadata": {
    "colab": {
     "base_uri": "https://localhost:8080/"
    },
    "id": "a8hJy73uU4sf",
    "outputId": "11e76196-efe6-41b4-9d49-ece1add1c684"
   },
   "outputs": [],
   "source": [
    "np.ones((2,3))"
   ]
  },
  {
   "cell_type": "code",
   "execution_count": null,
   "metadata": {
    "colab": {
     "base_uri": "https://localhost:8080/"
    },
    "id": "CXOuKCBAhT-R",
    "outputId": "92fce34b-9279-4ff3-ac41-f339916e9a1e"
   },
   "outputs": [],
   "source": [
    "np.random.rand(3,2) # random entre 0 y 1"
   ]
  },
  {
   "cell_type": "code",
   "execution_count": null,
   "metadata": {
    "colab": {
     "base_uri": "https://localhost:8080/"
    },
    "id": "IppJwl9UhZde",
    "outputId": "3285aaf7-5ff8-406f-c611-ca5ba140d157"
   },
   "outputs": [],
   "source": [
    "np.random.randint(1,10,(3,2)) # enteros random entre [1 y 10)"
   ]
  },
  {
   "cell_type": "code",
   "execution_count": null,
   "metadata": {
    "colab": {
     "base_uri": "https://localhost:8080/"
    },
    "id": "hSRDkakvU4sf",
    "outputId": "d23508c6-221d-4f54-aa99-b76ab0794668"
   },
   "outputs": [],
   "source": [
    "np.random.standard_normal((8,2))"
   ]
  },
  {
   "cell_type": "markdown",
   "metadata": {
    "id": "miDJcz_GFBma"
   },
   "source": [
    "Propiedades de un arreglo"
   ]
  },
  {
   "cell_type": "code",
   "execution_count": null,
   "metadata": {
    "colab": {
     "base_uri": "https://localhost:8080/"
    },
    "id": "RGsIfaEOFDyD",
    "outputId": "82ae192e-5121-48db-e628-a0cd38118a20"
   },
   "outputs": [],
   "source": [
    "an_array = np.ones((2,3))\n",
    "print('dimensiones: ', an_array.shape)\n",
    "print('cantidad de dimensiones: ', an_array.ndim)\n",
    "print('cantidad de elementos: ', an_array.size)\n",
    "print('tipo: ', an_array.dtype)"
   ]
  },
  {
   "cell_type": "markdown",
   "metadata": {
    "id": "vdipe8b9EqRp"
   },
   "source": [
    "Se puede cambiar el tipo de un array"
   ]
  },
  {
   "cell_type": "code",
   "execution_count": null,
   "metadata": {
    "colab": {
     "base_uri": "https://localhost:8080/"
    },
    "id": "WcAjlxQdEs_O",
    "outputId": "dabccc6e-7094-4052-ad78-bc933c097262"
   },
   "outputs": [],
   "source": [
    "np.arange(0,10,0.5)"
   ]
  },
  {
   "cell_type": "code",
   "execution_count": null,
   "metadata": {
    "colab": {
     "base_uri": "https://localhost:8080/"
    },
    "id": "sQha4U_kEw_E",
    "outputId": "afaaa8c2-9f4a-4a03-8dc3-006090237c42"
   },
   "outputs": [],
   "source": [
    "np.arange(0,10,0.5).astype(np.int32)"
   ]
  },
  {
   "cell_type": "markdown",
   "metadata": {
    "id": "1OY73h_fU4sa"
   },
   "source": [
    "## Matrices"
   ]
  },
  {
   "cell_type": "markdown",
   "metadata": {
    "id": "HyURVXvPU4sb"
   },
   "source": [
    "Las matrices no son más que array con 2 dimensiones. Si bien existe un tipo específico para matrices en numpy cayó en desuso (y obsolescencia)."
   ]
  },
  {
   "cell_type": "code",
   "execution_count": null,
   "metadata": {
    "colab": {
     "base_uri": "https://localhost:8080/"
    },
    "id": "PcUdgL_8U4sb",
    "outputId": "fdc1dfbf-a2a3-4105-8c41-1a58def93e00"
   },
   "outputs": [],
   "source": [
    "a_matrix = np.array([[ 0,  1,  2,  3],\n",
    "                    [ 4,  5,  6,  7],\n",
    "                    [ 8,  9, 10, 11],\n",
    "                    [12, 13, 14, 15]])\n",
    "a_matrix"
   ]
  },
  {
   "cell_type": "code",
   "execution_count": null,
   "metadata": {
    "colab": {
     "base_uri": "https://localhost:8080/"
    },
    "id": "SLvmg8s9U4sb",
    "outputId": "8dae343d-68c1-46b4-d5fc-2419eb2307d2"
   },
   "outputs": [],
   "source": [
    "print(a_matrix.shape, a_matrix.ndim, a_matrix.size, a_matrix.dtype)"
   ]
  },
  {
   "cell_type": "markdown",
   "metadata": {
    "id": "tWyR3FUUfce0"
   },
   "source": [
    "### Matrices especiales"
   ]
  },
  {
   "cell_type": "code",
   "execution_count": null,
   "metadata": {
    "colab": {
     "base_uri": "https://localhost:8080/"
    },
    "id": "Z0pM2MiIfbxR",
    "outputId": "d7988ab0-718d-4053-d148-15ebf333eb8c"
   },
   "outputs": [],
   "source": [
    "np.eye(3) # Identidad de 3x3"
   ]
  },
  {
   "cell_type": "code",
   "execution_count": null,
   "metadata": {
    "colab": {
     "base_uri": "https://localhost:8080/"
    },
    "id": "lXKZM93ffgk5",
    "outputId": "80c79b41-96cc-482b-e7a1-9f8e6455e5ad"
   },
   "outputs": [],
   "source": [
    "np.diag([77,90]) # Matriz diagonal"
   ]
  },
  {
   "cell_type": "code",
   "execution_count": null,
   "metadata": {
    "colab": {
     "base_uri": "https://localhost:8080/"
    },
    "id": "JOXxw5dSfjvV",
    "outputId": "3abda1b4-0f2c-4164-85ee-a93e1589b973"
   },
   "outputs": [],
   "source": [
    "np.diag(np.ones(3),1) # Superdiagonal 1"
   ]
  },
  {
   "cell_type": "code",
   "execution_count": null,
   "metadata": {
    "colab": {
     "base_uri": "https://localhost:8080/"
    },
    "id": "MtF_sDXGFTwa",
    "outputId": "15619629-0a46-41c0-ecf3-33fad4042a70"
   },
   "outputs": [],
   "source": [
    "np.vander(np.arange(4),increasing=True) # Matriz de Vandermonde (veremos al final de la materia qué significa)"
   ]
  },
  {
   "cell_type": "markdown",
   "metadata": {
    "id": "V5UvvqhfU4sb"
   },
   "source": [
    "## Cambio de dimensiones"
   ]
  },
  {
   "cell_type": "markdown",
   "metadata": {
    "id": "5zEVl7LIU4sc"
   },
   "source": [
    "Algunos métodos que modifican las dimensiones:\n",
    "* reshape: Devuelve un nuevo array con las dimensiones indicadas como\n",
    "parámetro. Si alguno de los parámetros es igual a -1, se calculan las\n",
    "dimensiones para que sea factible el cambio.\n",
    "\n",
    "* resize: el mismo efecto que “reshape” pero modifica el array en vez de devolver\n",
    "uno nuevo.\n",
    "\n",
    "* T: sirve para transponer una matriz.\n",
    "\n",
    "* ravel, flattened: “aplana” el array devolviendo todo en una sola dimensión."
   ]
  },
  {
   "cell_type": "code",
   "execution_count": null,
   "metadata": {
    "colab": {
     "base_uri": "https://localhost:8080/"
    },
    "id": "dAFXPhu8U4sc",
    "outputId": "9fcbef0a-5bac-40c5-eebc-d4864f721c69"
   },
   "outputs": [],
   "source": [
    "a_matrix"
   ]
  },
  {
   "cell_type": "code",
   "execution_count": null,
   "metadata": {},
   "outputs": [],
   "source": [
    "a_matrix.reshape(1,16)"
   ]
  },
  {
   "cell_type": "code",
   "execution_count": null,
   "metadata": {
    "colab": {
     "base_uri": "https://localhost:8080/"
    },
    "id": "XTbvbLN0U4sd",
    "outputId": "504d0270-4f20-4435-aaff-31618136abcb"
   },
   "outputs": [],
   "source": [
    "a_matrix.T"
   ]
  },
  {
   "cell_type": "code",
   "execution_count": null,
   "metadata": {
    "colab": {
     "base_uri": "https://localhost:8080/"
    },
    "id": "1-ycmi3SU4sd",
    "outputId": "8a837149-46dc-4f9e-84d0-d677488fb270"
   },
   "outputs": [],
   "source": [
    "a_matrix.ravel()"
   ]
  },
  {
   "cell_type": "code",
   "execution_count": null,
   "metadata": {
    "colab": {
     "base_uri": "https://localhost:8080/"
    },
    "id": "MwuSJ0pGU4sc",
    "outputId": "1336d37b-fc8a-4467-8ea6-286dd09b950b"
   },
   "outputs": [],
   "source": [
    "a_matrix.resize(1,16)\n",
    "a_matrix"
   ]
  },
  {
   "cell_type": "markdown",
   "metadata": {
    "id": "D6F6Pyk2U4sf"
   },
   "source": [
    "## Operaciones con arrays"
   ]
  },
  {
   "cell_type": "markdown",
   "metadata": {
    "id": "dwWHmax9U4sf"
   },
   "source": [
    "Existen muchísimas operaciones definidas para arrays."
   ]
  },
  {
   "cell_type": "markdown",
   "metadata": {
    "id": "kWcBRtObU4sf"
   },
   "source": [
    "### Operadores básicos\n",
    "\n",
    "Los operadores básicos de sumas, restas, potencias, etc se encuentran sobrecargados."
   ]
  },
  {
   "cell_type": "code",
   "execution_count": null,
   "metadata": {
    "colab": {
     "base_uri": "https://localhost:8080/"
    },
    "id": "bHvMHmswU4sg",
    "outputId": "70495308-419b-49f8-d82d-74248df069ce"
   },
   "outputs": [],
   "source": [
    "v = np.arange(1,7)\n",
    "w = np.ones(6)\n",
    "v, w"
   ]
  },
  {
   "cell_type": "code",
   "execution_count": null,
   "metadata": {
    "colab": {
     "base_uri": "https://localhost:8080/"
    },
    "id": "Std_KFLGU4sg",
    "outputId": "dfcd318a-d625-49e9-90c1-b4ba3ca1b137"
   },
   "outputs": [],
   "source": [
    "v + w"
   ]
  },
  {
   "cell_type": "code",
   "execution_count": null,
   "metadata": {
    "colab": {
     "base_uri": "https://localhost:8080/"
    },
    "id": "u9JzxPbYFsT6",
    "outputId": "eaebf23d-d467-46e4-ef34-4f63428979be"
   },
   "outputs": [],
   "source": [
    "v > w"
   ]
  },
  {
   "cell_type": "code",
   "execution_count": null,
   "metadata": {
    "colab": {
     "base_uri": "https://localhost:8080/"
    },
    "id": "WbZw3saEU4sg",
    "outputId": "45ad9dc2-9ad8-4873-9323-0cb604739b59"
   },
   "outputs": [],
   "source": [
    "v - w"
   ]
  },
  {
   "cell_type": "code",
   "execution_count": null,
   "metadata": {
    "colab": {
     "base_uri": "https://localhost:8080/"
    },
    "id": "CquY5gv4U4sg",
    "outputId": "dc7fea4b-a190-45dc-c951-c36795527ed4"
   },
   "outputs": [],
   "source": [
    "v ** 2"
   ]
  },
  {
   "cell_type": "code",
   "execution_count": null,
   "metadata": {
    "colab": {
     "base_uri": "https://localhost:8080/"
    },
    "id": "TtZELem1U4sg",
    "outputId": "15351031-f9b2-4da9-b53f-169d4723b365"
   },
   "outputs": [],
   "source": [
    "np.sqrt(v)"
   ]
  },
  {
   "cell_type": "code",
   "execution_count": null,
   "metadata": {
    "colab": {
     "base_uri": "https://localhost:8080/"
    },
    "id": "wl9i19HIU4sg",
    "outputId": "58e1fe5d-b71a-41f0-bec5-05438ea8d135"
   },
   "outputs": [],
   "source": [
    "print(np.sin(v), \"\\n\", np.cos(v), \"\\n\", np.floor(np.cos(v)), \"\\n\", np.round(np.cos(v)))"
   ]
  },
  {
   "cell_type": "markdown",
   "metadata": {
    "id": "M3gDPuIPU4sh"
   },
   "source": [
    "### Operaciones entre vectores"
   ]
  },
  {
   "cell_type": "code",
   "execution_count": null,
   "metadata": {
    "colab": {
     "base_uri": "https://localhost:8080/"
    },
    "id": "MlIDOOMhU4sh",
    "outputId": "6ac43338-4d09-4b4b-92e9-970b38224c80"
   },
   "outputs": [],
   "source": [
    "np.dot(v,w) #Producto iterno (o escalar)"
   ]
  },
  {
   "cell_type": "code",
   "execution_count": null,
   "metadata": {
    "colab": {
     "base_uri": "https://localhost:8080/"
    },
    "id": "acpw7kRmU4sh",
    "outputId": "8f4b7309-7d3c-4cbb-bb52-d756ef207400"
   },
   "outputs": [],
   "source": [
    "np.outer(v,w) #Producto externo"
   ]
  },
  {
   "cell_type": "markdown",
   "metadata": {
    "id": "xktWd52NU4sh"
   },
   "source": [
    "### Multiplicación de matrices\n",
    "\n",
    "Existe la multiplicación clásica entre matrices (con\n",
    "el símbolo @) o el producto elemento a elemento (producto Hadamard)"
   ]
  },
  {
   "cell_type": "code",
   "execution_count": null,
   "metadata": {
    "colab": {
     "base_uri": "https://localhost:8080/"
    },
    "id": "hhId4kMlU4sh",
    "outputId": "5b7a65cf-fbde-4733-c727-d18b7f9fe17c"
   },
   "outputs": [],
   "source": [
    "M1 = np.arange(1,10).reshape(3,3)\n",
    "M2 = np.ones((3,3))\n",
    "M1, M2"
   ]
  },
  {
   "cell_type": "code",
   "execution_count": null,
   "metadata": {
    "colab": {
     "base_uri": "https://localhost:8080/"
    },
    "id": "ijp2xKTFU4sh",
    "outputId": "90e596ae-bbaf-47fa-e83d-ab5f7cc4b842"
   },
   "outputs": [],
   "source": [
    "M1 * M2 #Producto Hadamard o elemento a elemento"
   ]
  },
  {
   "cell_type": "code",
   "execution_count": null,
   "metadata": {
    "colab": {
     "base_uri": "https://localhost:8080/"
    },
    "id": "pMhIGrvlcYP-",
    "outputId": "4cf60b92-44ca-421b-bca2-40b7d1014816"
   },
   "outputs": [],
   "source": [
    "np.matmul(M1,M2) #Producto interno de matrices"
   ]
  },
  {
   "cell_type": "code",
   "execution_count": null,
   "metadata": {
    "colab": {
     "base_uri": "https://localhost:8080/"
    },
    "id": "PrQg7yZQU4si",
    "outputId": "487e0d19-1a8e-4c2e-87b8-9897854551a6"
   },
   "outputs": [],
   "source": [
    "M1 @ M2 #Producto interno de matrices"
   ]
  },
  {
   "cell_type": "markdown",
   "metadata": {
    "id": "4dAKsw5LU4si"
   },
   "source": [
    "**EJERCICIO**: Multiplicar $M_{1}v$ siendo $v = (1,1,1)$ como columna"
   ]
  },
  {
   "cell_type": "code",
   "execution_count": null,
   "metadata": {
    "colab": {
     "base_uri": "https://localhost:8080/"
    },
    "id": "sl9NNEG6U4si",
    "outputId": "d173f2fd-a3a6-403c-b4b2-1c6e152f565a"
   },
   "outputs": [],
   "source": [
    "..."
   ]
  },
  {
   "cell_type": "markdown",
   "metadata": {
    "id": "36ig2IzoU4sk"
   },
   "source": [
    "## [Indexación de arreglos](https://numpy.org/doc/stable/user/basics.indexing.html)"
   ]
  },
  {
   "cell_type": "markdown",
   "metadata": {
    "id": "vTPdzaLeU4sk"
   },
   "source": [
    "Los arrays en NumPy se pueden acceder a posiciones particulares o mediante 'slicing' de maneras parecidas a las listas nativas. Observar los siguientes comandos e interpretar."
   ]
  },
  {
   "cell_type": "code",
   "execution_count": null,
   "metadata": {
    "colab": {
     "base_uri": "https://localhost:8080/"
    },
    "id": "q2EThWzAU4sk",
    "outputId": "3ee2bf20-3273-47ab-9ccc-150ad5c990bf"
   },
   "outputs": [],
   "source": [
    "an_array = np.arange(0,40,2)\n",
    "an_array"
   ]
  },
  {
   "cell_type": "code",
   "execution_count": null,
   "metadata": {
    "colab": {
     "base_uri": "https://localhost:8080/"
    },
    "id": "yxltsYSoU4sk",
    "outputId": "72a3e7ef-4e3e-45da-d19c-45e6ff46c0eb"
   },
   "outputs": [],
   "source": [
    "an_array[6]"
   ]
  },
  {
   "cell_type": "code",
   "execution_count": null,
   "metadata": {
    "colab": {
     "base_uri": "https://localhost:8080/"
    },
    "id": "RXuU03q_U4sk",
    "outputId": "04d2e72e-34da-4348-ce41-0f6171612909"
   },
   "outputs": [],
   "source": [
    "start = 2\n",
    "end = 18\n",
    "step = 2\n",
    "\n",
    "an_array[start:end:step]"
   ]
  },
  {
   "cell_type": "code",
   "execution_count": null,
   "metadata": {
    "colab": {
     "base_uri": "https://localhost:8080/"
    },
    "id": "6y8TEsivU4sk",
    "outputId": "2d1a4b6a-b948-47ab-9725-1f7a2ba496e3"
   },
   "outputs": [],
   "source": [
    "# Son equivalentes\n",
    "#an_array[0:end:]\n",
    "#an_array[:end:]\n",
    "an_array[:end]"
   ]
  },
  {
   "cell_type": "code",
   "execution_count": null,
   "metadata": {
    "colab": {
     "base_uri": "https://localhost:8080/"
    },
    "id": "HSfX35TfU4sk",
    "outputId": "e46735da-b39b-4df4-c816-8aabda9976c5"
   },
   "outputs": [],
   "source": [
    "an_array[:-1]"
   ]
  },
  {
   "cell_type": "code",
   "execution_count": null,
   "metadata": {
    "colab": {
     "base_uri": "https://localhost:8080/"
    },
    "id": "x1Ye-oiPU4sl",
    "outputId": "ef2636d4-546d-4844-8766-4bcad6cb68cd"
   },
   "outputs": [],
   "source": [
    "an_array[::]"
   ]
  },
  {
   "cell_type": "code",
   "execution_count": null,
   "metadata": {
    "colab": {
     "base_uri": "https://localhost:8080/"
    },
    "id": "1zzPz4kHU4sl",
    "outputId": "47e950f7-d06c-4551-92a1-8b962fdfc828"
   },
   "outputs": [],
   "source": [
    "an_array[::-1]"
   ]
  },
  {
   "cell_type": "code",
   "execution_count": null,
   "metadata": {
    "colab": {
     "base_uri": "https://localhost:8080/"
    },
    "id": "vX5OYJwvU4sl",
    "outputId": "f1e99000-f8c7-4981-9327-8f2512f1bdc4"
   },
   "outputs": [],
   "source": [
    "for element in an_array[:5]:\n",
    "    print(element)"
   ]
  },
  {
   "cell_type": "code",
   "execution_count": null,
   "metadata": {
    "colab": {
     "base_uri": "https://localhost:8080/"
    },
    "id": "QQdKq34QU4sl",
    "outputId": "22995acd-fb19-4ca5-8a29-29e9d2de5a83"
   },
   "outputs": [],
   "source": [
    "a_matrix = np.arange(16).reshape((4,4))\n",
    "a_matrix"
   ]
  },
  {
   "cell_type": "code",
   "execution_count": null,
   "metadata": {
    "colab": {
     "base_uri": "https://localhost:8080/"
    },
    "id": "kb2VT3sTU4sl",
    "outputId": "08dec586-e919-4e34-af73-3155924700b1"
   },
   "outputs": [],
   "source": [
    "a_matrix[:,2]"
   ]
  },
  {
   "cell_type": "code",
   "execution_count": null,
   "metadata": {
    "colab": {
     "base_uri": "https://localhost:8080/"
    },
    "id": "UaiH5sWNU4sl",
    "outputId": "14f2bdac-c0e9-493f-a879-00fd22755a39"
   },
   "outputs": [],
   "source": [
    "a_matrix[:,1:3]"
   ]
  },
  {
   "cell_type": "code",
   "execution_count": null,
   "metadata": {
    "colab": {
     "base_uri": "https://localhost:8080/"
    },
    "id": "FgrP1CgMU4sl",
    "outputId": "8c2b4477-506c-45f7-917f-1f9e56a7211b"
   },
   "outputs": [],
   "source": [
    "a_matrix[-1,:]"
   ]
  },
  {
   "cell_type": "code",
   "execution_count": null,
   "metadata": {
    "colab": {
     "base_uri": "https://localhost:8080/"
    },
    "id": "AwjWFp7VU4sl",
    "outputId": "1dac02b1-f8b6-4b3a-f2dc-48c8bf3f1250"
   },
   "outputs": [],
   "source": [
    "for row in a_matrix:\n",
    "    print(row)"
   ]
  },
  {
   "cell_type": "code",
   "execution_count": null,
   "metadata": {
    "colab": {
     "base_uri": "https://localhost:8080/"
    },
    "id": "fUvNvhKRecIR",
    "outputId": "5aba5b1b-36f6-4a32-fb19-8e93624fbc6c"
   },
   "outputs": [],
   "source": [
    "a_matrix[1:3,2:4]"
   ]
  },
  {
   "cell_type": "markdown",
   "metadata": {
    "id": "yF0Ejzemz39I"
   },
   "source": [
    "## Máscaras\n",
    "\n",
    "Es posible seleccionar elementos de un arreglo utilizando como índice otro arreglo de booleanos. Esto es mucho más eficiente que realizar un ciclo que recorra todo el arreglo y ejecute una condición en cada posición."
   ]
  },
  {
   "cell_type": "code",
   "execution_count": null,
   "metadata": {
    "colab": {
     "base_uri": "https://localhost:8080/"
    },
    "id": "OCWHROmU089z",
    "outputId": "10d79770-db96-4af2-cb2b-0f0d827a791e"
   },
   "outputs": [],
   "source": [
    "import time\n",
    "\n",
    "an_array = np.arange(4)\n",
    "mask = np.array([False,True,True,False])\n",
    "an_array[mask]"
   ]
  },
  {
   "cell_type": "markdown",
   "metadata": {
    "id": "1FN1XZVX1OUt"
   },
   "source": [
    "Las operaciones con máscaras son más rápidas que operar elemento a elemento con condiciones"
   ]
  },
  {
   "cell_type": "code",
   "execution_count": null,
   "metadata": {
    "colab": {
     "base_uri": "https://localhost:8080/"
    },
    "id": "l5WLTWfzz5_0",
    "outputId": "a3a81d4b-dca0-455d-e3ab-d01ceddec13c"
   },
   "outputs": [],
   "source": [
    "an_array = np.arange(100)\n",
    "an_array"
   ]
  },
  {
   "cell_type": "code",
   "execution_count": null,
   "metadata": {
    "colab": {
     "base_uri": "https://localhost:8080/"
    },
    "id": "8C9Z5Uh50Zy5",
    "outputId": "fbbad7af-5969-402d-8e3c-ac90bcafdc3e"
   },
   "outputs": [],
   "source": [
    "np.array([x for x in an_array if x>50])"
   ]
  },
  {
   "cell_type": "code",
   "execution_count": null,
   "metadata": {
    "colab": {
     "base_uri": "https://localhost:8080/"
    },
    "id": "BlnIbkeXz9Ze",
    "outputId": "7218ecce-e59a-4db1-c425-daf9993416c0"
   },
   "outputs": [],
   "source": [
    "an_array[an_array>50]"
   ]
  },
  {
   "cell_type": "code",
   "execution_count": null,
   "metadata": {
    "colab": {
     "base_uri": "https://localhost:8080/"
    },
    "id": "RMzoSdWW0EMh",
    "outputId": "371ba2a6-400d-450b-955f-0f3a03513451"
   },
   "outputs": [],
   "source": [
    "%timeit np.array([x for x in an_array if x>50])"
   ]
  },
  {
   "cell_type": "code",
   "execution_count": null,
   "metadata": {
    "colab": {
     "base_uri": "https://localhost:8080/"
    },
    "id": "8XK_HfVo0BG_",
    "outputId": "6447145d-fd6f-4912-b4d5-caf4341f21f9"
   },
   "outputs": [],
   "source": [
    "%timeit an_array[an_array>50]"
   ]
  },
  {
   "cell_type": "markdown",
   "metadata": {
    "id": "IxY0gwMbU4sm"
   },
   "source": [
    "## Tipos de asignación"
   ]
  },
  {
   "cell_type": "markdown",
   "metadata": {
    "id": "dQf-TooVU4sm"
   },
   "source": [
    "### Referencia"
   ]
  },
  {
   "cell_type": "code",
   "execution_count": null,
   "metadata": {
    "colab": {
     "base_uri": "https://localhost:8080/"
    },
    "id": "6qJfUkAmU4sm",
    "outputId": "ae56c09c-bac4-4c4e-b8ba-41beba4d04d7"
   },
   "outputs": [],
   "source": [
    "an_array = np.arange(10)\n",
    "an_array"
   ]
  },
  {
   "cell_type": "code",
   "execution_count": null,
   "metadata": {
    "id": "urvep9JKU4sn"
   },
   "outputs": [],
   "source": [
    "another_array = an_array"
   ]
  },
  {
   "cell_type": "code",
   "execution_count": null,
   "metadata": {
    "colab": {
     "base_uri": "https://localhost:8080/"
    },
    "id": "jfRToKcbU4sn",
    "outputId": "0aca1c08-567f-4937-94bd-a463e698d9ea"
   },
   "outputs": [],
   "source": [
    "another_array[3] = 8\n",
    "an_array"
   ]
  },
  {
   "cell_type": "markdown",
   "metadata": {
    "id": "V9cu9HB8U4sn"
   },
   "source": [
    "### [Vista](https://numpy.org/doc/stable/user/basics.copies.html)"
   ]
  },
  {
   "cell_type": "code",
   "execution_count": null,
   "metadata": {
    "colab": {
     "base_uri": "https://localhost:8080/"
    },
    "id": "yGrziPStU4sn",
    "outputId": "1806acac-9078-4376-f5e9-afcb619da566"
   },
   "outputs": [],
   "source": [
    "an_array = np.arange(10)\n",
    "an_array"
   ]
  },
  {
   "cell_type": "code",
   "execution_count": null,
   "metadata": {
    "id": "ooymuYYIU4so"
   },
   "outputs": [],
   "source": [
    "another_array = an_array.view()"
   ]
  },
  {
   "cell_type": "code",
   "execution_count": null,
   "metadata": {
    "colab": {
     "base_uri": "https://localhost:8080/"
    },
    "id": "3I5DxIdrU4so",
    "outputId": "e68efdf2-cb1e-4bd0-9087-c41a6a070e23"
   },
   "outputs": [],
   "source": [
    "another_array = another_array.reshape((5,2))\n",
    "another_array"
   ]
  },
  {
   "cell_type": "code",
   "execution_count": null,
   "metadata": {
    "id": "M_suFG40U4so"
   },
   "outputs": [],
   "source": [
    "an_array[3] = 8"
   ]
  },
  {
   "cell_type": "code",
   "execution_count": null,
   "metadata": {
    "colab": {
     "base_uri": "https://localhost:8080/"
    },
    "id": "hKoyH3WbU4so",
    "outputId": "5427ebe2-3612-4198-e89b-b3dc6ebb9bd5"
   },
   "outputs": [],
   "source": [
    "another_array"
   ]
  },
  {
   "cell_type": "markdown",
   "metadata": {
    "id": "SjMWGnttU4so"
   },
   "source": [
    "### [Copia](https://numpy.org/doc/stable/user/basics.copies.html)\n"
   ]
  },
  {
   "cell_type": "code",
   "execution_count": null,
   "metadata": {
    "id": "A40b8ZA8U4so"
   },
   "outputs": [],
   "source": [
    "another_array = np.arange(10)"
   ]
  },
  {
   "cell_type": "code",
   "execution_count": null,
   "metadata": {
    "id": "nyhvyRYlU4sp"
   },
   "outputs": [],
   "source": [
    "an_array = another_array.copy()"
   ]
  },
  {
   "cell_type": "code",
   "execution_count": null,
   "metadata": {
    "id": "-btcd1wOU4sp"
   },
   "outputs": [],
   "source": [
    "an_array[3] = 8"
   ]
  },
  {
   "cell_type": "code",
   "execution_count": null,
   "metadata": {
    "colab": {
     "base_uri": "https://localhost:8080/"
    },
    "id": "euZ30kdaU4sp",
    "outputId": "8f610915-f73a-4083-c5f0-5b8875b22081"
   },
   "outputs": [],
   "source": [
    "an_array, another_array"
   ]
  },
  {
   "cell_type": "markdown",
   "metadata": {
    "id": "EyIFsP5HHF1C"
   },
   "source": [
    "## Operaciones matemáticas"
   ]
  },
  {
   "cell_type": "code",
   "execution_count": null,
   "metadata": {
    "colab": {
     "base_uri": "https://localhost:8080/"
    },
    "id": "RDFFC5WxHR_f",
    "outputId": "3e06dbe2-4754-4d32-ba4b-867387621c5e"
   },
   "outputs": [],
   "source": [
    "np.sum(np.arange(1000)) # suma los elementos de un arreglo"
   ]
  },
  {
   "cell_type": "code",
   "execution_count": null,
   "metadata": {
    "colab": {
     "base_uri": "https://localhost:8080/"
    },
    "id": "DENTJZcJHU05",
    "outputId": "3b08971e-5522-40cb-d193-9f957ad9255c"
   },
   "outputs": [],
   "source": [
    "arr = np.arange(16).reshape(4,4,)\n",
    "np.sum(arr,0) #  de un arreglo 2d, suma solo un eje, el 0, el primero"
   ]
  },
  {
   "cell_type": "code",
   "execution_count": null,
   "metadata": {
    "colab": {
     "base_uri": "https://localhost:8080/"
    },
    "id": "rOpJ-ag2HkR3",
    "outputId": "b1666110-72e7-4e70-f894-5f0c95fd4b78"
   },
   "outputs": [],
   "source": [
    "np.diff(np.arange(10)) # resta elementos consecutivos"
   ]
  },
  {
   "cell_type": "code",
   "execution_count": null,
   "metadata": {
    "colab": {
     "base_uri": "https://localhost:8080/"
    },
    "id": "Qg77ayKuHrzm",
    "outputId": "b2baf8c1-23cd-49b6-ae31-2c45362a0cfa"
   },
   "outputs": [],
   "source": [
    "np.cumsum(np.arange(10)) # suma acumulada"
   ]
  },
  {
   "cell_type": "markdown",
   "metadata": {
    "id": "iof8f9p5gAcL"
   },
   "source": [
    "## Álgebra Lineal\n",
    "\n",
    "Numpy utiliza BLAS y LAPACK para las operaciones de álgebra lineal\n",
    "\n",
    "https://numpy.org/doc/stable/reference/routines.linalg.html#module-numpy.linalg\n",
    "\n",
    "Descomposiciones, autovalores, normas, determinante, rango, sistemas de ecuaciones, inversa, ..."
   ]
  },
  {
   "cell_type": "code",
   "execution_count": null,
   "metadata": {
    "id": "1B4nlEbKTD8Z"
   },
   "outputs": [],
   "source": [
    "import numpy.linalg as lng"
   ]
  },
  {
   "cell_type": "code",
   "execution_count": null,
   "metadata": {
    "colab": {
     "base_uri": "https://localhost:8080/"
    },
    "id": "zrE773G_gFoJ",
    "outputId": "909c77e1-8c52-43bb-de21-554027489466"
   },
   "outputs": [],
   "source": [
    "A = np.random.randint(1,10,(3,3))\n",
    "A"
   ]
  },
  {
   "cell_type": "code",
   "execution_count": null,
   "metadata": {
    "colab": {
     "base_uri": "https://localhost:8080/"
    },
    "id": "5twKNrC4gE1U",
    "outputId": "e6b0cc99-04dc-41f1-d53a-b3fb260ccc33"
   },
   "outputs": [],
   "source": [
    "lng.inv(A)  # Inversa"
   ]
  },
  {
   "cell_type": "code",
   "execution_count": null,
   "metadata": {
    "colab": {
     "base_uri": "https://localhost:8080/"
    },
    "id": "5twKNrC4gE1U",
    "outputId": "e6b0cc99-04dc-41f1-d53a-b3fb260ccc33"
   },
   "outputs": [],
   "source": [
    "lng.det(A)  # Determinante"
   ]
  },
  {
   "cell_type": "markdown",
   "metadata": {
    "id": "mgYZpsWownP0"
   },
   "source": [
    "## Resolver sistemas de ecuaciones"
   ]
  },
  {
   "cell_type": "code",
   "execution_count": null,
   "metadata": {
    "colab": {
     "base_uri": "https://localhost:8080/"
    },
    "id": "Nb6bTtiIwmpH",
    "outputId": "7a756118-f623-407f-8da3-daedbfe4959c"
   },
   "outputs": [],
   "source": [
    "A = np.random.randint(-9,10,(4,4))\n",
    "x = np.random.randint(-9,10,(4,1))\n",
    "b = A@x\n",
    "A, x, b"
   ]
  },
  {
   "cell_type": "code",
   "execution_count": null,
   "metadata": {
    "colab": {
     "base_uri": "https://localhost:8080/"
    },
    "id": "uQ2kt-3mw04b",
    "outputId": "97cac524-f525-40d3-fae1-5c991aa8aecd"
   },
   "outputs": [],
   "source": [
    "x_solve = lng.solve(A,b)\n",
    "print(x_solve)\n",
    "np.allclose(x,x_solve)"
   ]
  },
  {
   "cell_type": "markdown",
   "metadata": {
    "id": "Dr5xCGZwhL6s"
   },
   "source": [
    "## Ejercicios"
   ]
  },
  {
   "cell_type": "markdown",
   "metadata": {
    "id": "GXeH49ml9yCD"
   },
   "source": [
    "Realizar el ejercicio 3 de la práctica 1, ejecutando los comandos indicados.\n",
    "\n",
    "Realizar el ejercicio 21 de la Práctica 1. Utilizar ejercicio21_P1.py, completarlo y ejecutarlo en Spyder. Si surgen errores, hacer debugging en Spyder.\n",
    "\n",
    "Realizar el ejercicio 4 de la práctica 1."
   ]
  },
  {
   "cell_type": "markdown",
   "metadata": {},
   "source": [
    "## Programita para escalonar matrices: row_echelon\n"
   ]
  },
  {
   "cell_type": "code",
   "execution_count": null,
   "metadata": {},
   "outputs": [],
   "source": [
    "import numpy as np\n",
    "\n",
    "def row_echelon(M):\n",
    "    \"\"\" \n",
    "        Retorna la Matriz Escalonada por Filas \n",
    "    \"\"\"\n",
    "    A = np.copy(M)\n",
    "    if (issubclass(A.dtype.type, np.integer)):\n",
    "        A = A.astype(float)\n",
    "    # Si A no tiene filas o columnas, ya esta escalonada\n",
    "    f, c = A.shape\n",
    "    if f == 0 or c == 0:\n",
    "        return A\n",
    "    # buscamos primer elemento no nulo de la primera columna\n",
    "    i = 0\n",
    "    while i < f and A[i,0] == 0:\n",
    "        i += 1\n",
    "    if i == f:\n",
    "        # si todos los elementos de la primera columna son ceros\n",
    "        # escalonamos filas desde la segunda columna\n",
    "        B = escalonar_filas(A[:,1:])\n",
    "        # y volvemos a agregar la primera columna de zeros\n",
    "        return np.block([A[:,:1], B])\n",
    "    # intercambiamos filas i <-> 0, pues el primer cero aparece en la fila i\n",
    "    if i > 0:\n",
    "        A[[0,i],:] = A[[i,0],:]\n",
    "    # PASO DE TRIANGULACION GAUSSIANA:\n",
    "    # a las filas subsiguientes les restamos un multiplo de la primera\n",
    "    A[1:,:] -= (A[0,:] / A[0,0]) * A[1:,0:1]\n",
    "    # escalonamos desde la segunda fila y segunda columna en adelante\n",
    "    B = escalonar_filas(A[1:,1:])\n",
    "    # reconstruimos la matriz por bloques adosando a B la primera fila \n",
    "    # y la primera columna (de ceros)\n",
    "    return np.block([ [A[:1,:]], [ A[1:,:1], B] ])"
   ]
  },
  {
   "cell_type": "code",
   "execution_count": null,
   "metadata": {},
   "outputs": [],
   "source": [
    "# Lo probamos:\n",
    "A = np.array([[1,2,3,4],[5,6,7,8],[9,10,11,12]])\n",
    "print(A)\n",
    "print('---------------')\n",
    "print(row_echelon(A))"
   ]
  },
  {
   "cell_type": "code",
   "execution_count": null,
   "metadata": {},
   "outputs": [],
   "source": [
    "# OJO... puede hacer algunas operaciones de cambios de fila!\n",
    "A = np.array([[1,2,3],[4,5,6],[7,8,9]])\n",
    "A = A.astype(float)\n",
    "print(A)\n",
    "print(A[1:,0:1])\n",
    "\n",
    "print((A[0,:] / A[0,0]) * A[1:,0:1])\n",
    "\n",
    "print(A[1:,:])\n",
    "\n",
    "A[1:,:] -= (A[0,:] / A[0,0]) * A[1:,0:1]\n",
    "\n",
    "print(A)"
   ]
  },
  {
   "cell_type": "code",
   "execution_count": null,
   "metadata": {},
   "outputs": [],
   "source": [
    "# Otro ejemplo\n",
    "A = np.array([[1,2,3,4],[5,6,7,8],[9,10,11,12]])\n",
    "print(A)\n",
    "print(row_echelon(A))"
   ]
  },
  {
   "cell_type": "code",
   "execution_count": null,
   "metadata": {},
   "outputs": [],
   "source": [
    "# Y otro mas\n",
    "A = np.array([[1,2,3,4],[5,6,7,8],[9,10,11,12]])\n",
    "print(A)\n",
    "print(row_echelon(A))"
   ]
  },
  {
   "cell_type": "markdown",
   "metadata": {},
   "source": [
    "### Complejidad de la elimación gaussiana (row_echelon) experimentalmente"
   ]
  },
  {
   "cell_type": "code",
   "execution_count": null,
   "metadata": {},
   "outputs": [],
   "source": [
    "import time # Para tomar tiempos de operaciones"
   ]
  },
  {
   "cell_type": "code",
   "execution_count": null,
   "metadata": {},
   "outputs": [],
   "source": [
    "# Matrices con numeros aleatorios\n",
    "A = np.random.rand(10,10)\n",
    "print(A)"
   ]
  },
  {
   "cell_type": "code",
   "execution_count": null,
   "metadata": {},
   "outputs": [],
   "source": [
    "# Probamos para 100x100\n",
    "A = np.random.rand(100,100)\n",
    "start = time.time()\n",
    "B = row_echelon(A)\n",
    "end = time.time()\n",
    "t1 = end - start\n",
    "print(t1)"
   ]
  },
  {
   "cell_type": "code",
   "execution_count": null,
   "metadata": {},
   "outputs": [],
   "source": [
    "# Probamos para 200x200\n",
    "A = np.random.rand(200,200)\n",
    "start = time.time()\n",
    "B = row_echelon(A)\n",
    "end = time.time()\n",
    "t2 = end - start\n",
    "print(t2)"
   ]
  },
  {
   "cell_type": "code",
   "execution_count": null,
   "metadata": {},
   "outputs": [],
   "source": [
    "# Probamos para 300x300\n",
    "A = np.random.rand(300,300)\n",
    "start = time.time()\n",
    "B = row_echelon(A)\n",
    "end = time.time()\n",
    "t3 = end - start\n",
    "print(t3)"
   ]
  },
  {
   "cell_type": "code",
   "execution_count": null,
   "metadata": {},
   "outputs": [],
   "source": [
    "# Probamos para 400x400\n",
    "A = np.random.rand(400,400)\n",
    "start = time.time()\n",
    "B = row_echelon(A)\n",
    "end = time.time()\n",
    "t4 = end - start\n",
    "print(t4)"
   ]
  },
  {
   "cell_type": "markdown",
   "metadata": {},
   "source": [
    "Ahora que tenemos la intuición, lo hacemos sistemáticamente:"
   ]
  },
  {
   "cell_type": "code",
   "execution_count": null,
   "metadata": {},
   "outputs": [],
   "source": [
    "import time\n",
    "import numpy as np\n",
    "def test_row_echelon(tamano_matrices: list, cantidad_repeticiones: int):\n",
    "    tiempos_medios = []\n",
    "    tiempos_desvios = []\n",
    "    for N in tamano_matrices: # Vamos a iterar sobre distintos tamaños\n",
    "        tiempos = []\n",
    "        for _ in range(cantidad_repeticiones): # Como las matrices son al azar, repetimos varias veces para calcular promedio y desvio (variabilidad)\n",
    "            A = np.random.rand(N,N)\n",
    "            start = time.time()\n",
    "            B = row_echelon(A)\n",
    "            end = time.time()\n",
    "            tiempos.append(end - start)\n",
    "        tiempos_medios.append(np.mean(tiempos)) # Tiempo promedio\n",
    "        tiempos_desvios.append(np.std(tiempos)) # Desvio en los tiempos\n",
    "    return([tiempos_medios,tiempos_desvios])\n"
   ]
  },
  {
   "cell_type": "code",
   "execution_count": null,
   "metadata": {},
   "outputs": [],
   "source": [
    "tamanos_matrices = [2,5,10,20,50,100,200,500,1000] # Los buenos tests toman su tiempo: este tarda unos 4 minutos\n",
    "cantidad_repeticiones = 30\n",
    "tiempos_medios,tiempos_desvios = test_row_echelon(tamanos_matrices,cantidad_repeticiones)"
   ]
  },
  {
   "cell_type": "code",
   "execution_count": null,
   "metadata": {},
   "outputs": [],
   "source": [
    "import matplotlib.pyplot as plt # Graficamos los tiempos medios\n",
    "plt.scatter(tamanos_matrices,tiempos_medios)"
   ]
  },
  {
   "cell_type": "code",
   "execution_count": null,
   "metadata": {},
   "outputs": [],
   "source": [
    "# Mejor aun con barras de error\n",
    "plt.errorbar(tamanos_matrices, tiempos_medios, yerr=tiempos_desvios, fmt='o', capsize=5, ecolor='red', markerfacecolor='blue')"
   ]
  },
  {
   "cell_type": "code",
   "execution_count": null,
   "metadata": {},
   "outputs": [],
   "source": [
    "# Y en este caso, mejor aun con barras de escala logaritmica para comparar escalas\n",
    "plt.errorbar(tamanos_matrices, tiempos_medios, yerr=tiempos_desvios, fmt='o', capsize=5, ecolor='red', markerfacecolor='blue')\n",
    "plt.yscale('log')\n",
    "plt.xscale('log')\n",
    "# Esta linea muestra que el crecimiento del tiempo es aproximadamente cúbico em eñ tamaño de la matriz (para matrices grandes)\n",
    "plt.plot(np.array([10**1,10**3]),np.array([10**1,10**3])**3/10**8) "
   ]
  }
 ],
 "metadata": {
  "colab": {
   "provenance": [],
   "toc_visible": true
  },
  "kernelspec": {
   "display_name": "base",
   "language": "python",
   "name": "python3"
  },
  "language_info": {
   "codemirror_mode": {
    "name": "ipython",
    "version": 3
   },
   "file_extension": ".py",
   "mimetype": "text/x-python",
   "name": "python",
   "nbconvert_exporter": "python",
   "pygments_lexer": "ipython3",
   "version": "3.11.7"
  }
 },
 "nbformat": 4,
 "nbformat_minor": 4
}
